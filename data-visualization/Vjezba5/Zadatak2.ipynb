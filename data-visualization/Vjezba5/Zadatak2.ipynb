{
 "cells": [
  {
   "cell_type": "code",
   "execution_count": 12,
   "metadata": {},
   "outputs": [],
   "source": [
    "import pandas as pd"
   ]
  },
  {
   "cell_type": "code",
   "execution_count": 13,
   "metadata": {},
   "outputs": [],
   "source": [
    "df = pd.read_csv('C:/Users/Python/Desktop/data-visualization/Vjezba5/heart_disease.csv')"
   ]
  },
  {
   "cell_type": "code",
   "execution_count": 14,
   "metadata": {},
   "outputs": [
    {
     "name": "stdout",
     "output_type": "stream",
     "text": [
      "<class 'pandas.core.frame.DataFrame'>\n",
      "RangeIndex: 10000 entries, 0 to 9999\n",
      "Data columns (total 21 columns):\n",
      " #   Column                Non-Null Count  Dtype  \n",
      "---  ------                --------------  -----  \n",
      " 0   Age                   9971 non-null   float64\n",
      " 1   Gender                9981 non-null   object \n",
      " 2   Blood Pressure        9981 non-null   float64\n",
      " 3   Cholesterol Level     9970 non-null   float64\n",
      " 4   Exercise Habits       9975 non-null   object \n",
      " 5   Smoking               9975 non-null   object \n",
      " 6   Family Heart Disease  9979 non-null   object \n",
      " 7   Diabetes              9970 non-null   object \n",
      " 8   BMI                   9978 non-null   float64\n",
      " 9   High Blood Pressure   9974 non-null   object \n",
      " 10  Low HDL Cholesterol   9975 non-null   object \n",
      " 11  High LDL Cholesterol  9974 non-null   object \n",
      " 12  Alcohol Consumption   7414 non-null   object \n",
      " 13  Stress Level          9978 non-null   object \n",
      " 14  Sleep Hours           9975 non-null   float64\n",
      " 15  Sugar Consumption     9970 non-null   object \n",
      " 16  Triglyceride Level    9974 non-null   float64\n",
      " 17  Fasting Blood Sugar   9978 non-null   float64\n",
      " 18  CRP Level             9974 non-null   float64\n",
      " 19  Homocysteine Level    9980 non-null   float64\n",
      " 20  Heart Disease Status  10000 non-null  object \n",
      "dtypes: float64(9), object(12)\n",
      "memory usage: 1.6+ MB\n"
     ]
    }
   ],
   "source": [
    "df.info()"
   ]
  },
  {
   "cell_type": "code",
   "execution_count": 15,
   "metadata": {},
   "outputs": [
    {
     "data": {
      "text/html": [
       "<div>\n",
       "<style scoped>\n",
       "    .dataframe tbody tr th:only-of-type {\n",
       "        vertical-align: middle;\n",
       "    }\n",
       "\n",
       "    .dataframe tbody tr th {\n",
       "        vertical-align: top;\n",
       "    }\n",
       "\n",
       "    .dataframe thead th {\n",
       "        text-align: right;\n",
       "    }\n",
       "</style>\n",
       "<table border=\"1\" class=\"dataframe\">\n",
       "  <thead>\n",
       "    <tr style=\"text-align: right;\">\n",
       "      <th></th>\n",
       "      <th>Age</th>\n",
       "      <th>Gender</th>\n",
       "      <th>Blood Pressure</th>\n",
       "      <th>Cholesterol Level</th>\n",
       "      <th>Exercise Habits</th>\n",
       "      <th>Smoking</th>\n",
       "      <th>Family Heart Disease</th>\n",
       "      <th>Diabetes</th>\n",
       "      <th>BMI</th>\n",
       "      <th>High Blood Pressure</th>\n",
       "      <th>...</th>\n",
       "      <th>High LDL Cholesterol</th>\n",
       "      <th>Alcohol Consumption</th>\n",
       "      <th>Stress Level</th>\n",
       "      <th>Sleep Hours</th>\n",
       "      <th>Sugar Consumption</th>\n",
       "      <th>Triglyceride Level</th>\n",
       "      <th>Fasting Blood Sugar</th>\n",
       "      <th>CRP Level</th>\n",
       "      <th>Homocysteine Level</th>\n",
       "      <th>Heart Disease Status</th>\n",
       "    </tr>\n",
       "  </thead>\n",
       "  <tbody>\n",
       "    <tr>\n",
       "      <th>0</th>\n",
       "      <td>56.0</td>\n",
       "      <td>Male</td>\n",
       "      <td>153.0</td>\n",
       "      <td>155.0</td>\n",
       "      <td>High</td>\n",
       "      <td>Yes</td>\n",
       "      <td>Yes</td>\n",
       "      <td>No</td>\n",
       "      <td>24.991591</td>\n",
       "      <td>Yes</td>\n",
       "      <td>...</td>\n",
       "      <td>No</td>\n",
       "      <td>High</td>\n",
       "      <td>Medium</td>\n",
       "      <td>7.633228</td>\n",
       "      <td>Medium</td>\n",
       "      <td>342.0</td>\n",
       "      <td>NaN</td>\n",
       "      <td>12.969246</td>\n",
       "      <td>12.387250</td>\n",
       "      <td>No</td>\n",
       "    </tr>\n",
       "    <tr>\n",
       "      <th>1</th>\n",
       "      <td>69.0</td>\n",
       "      <td>Female</td>\n",
       "      <td>146.0</td>\n",
       "      <td>286.0</td>\n",
       "      <td>High</td>\n",
       "      <td>No</td>\n",
       "      <td>Yes</td>\n",
       "      <td>Yes</td>\n",
       "      <td>25.221799</td>\n",
       "      <td>No</td>\n",
       "      <td>...</td>\n",
       "      <td>No</td>\n",
       "      <td>Medium</td>\n",
       "      <td>High</td>\n",
       "      <td>8.744034</td>\n",
       "      <td>Medium</td>\n",
       "      <td>133.0</td>\n",
       "      <td>157.0</td>\n",
       "      <td>9.355389</td>\n",
       "      <td>19.298875</td>\n",
       "      <td>No</td>\n",
       "    </tr>\n",
       "    <tr>\n",
       "      <th>2</th>\n",
       "      <td>46.0</td>\n",
       "      <td>Male</td>\n",
       "      <td>126.0</td>\n",
       "      <td>216.0</td>\n",
       "      <td>Low</td>\n",
       "      <td>No</td>\n",
       "      <td>No</td>\n",
       "      <td>No</td>\n",
       "      <td>29.855447</td>\n",
       "      <td>No</td>\n",
       "      <td>...</td>\n",
       "      <td>Yes</td>\n",
       "      <td>Low</td>\n",
       "      <td>Low</td>\n",
       "      <td>4.440440</td>\n",
       "      <td>Low</td>\n",
       "      <td>393.0</td>\n",
       "      <td>92.0</td>\n",
       "      <td>12.709873</td>\n",
       "      <td>11.230926</td>\n",
       "      <td>No</td>\n",
       "    </tr>\n",
       "    <tr>\n",
       "      <th>3</th>\n",
       "      <td>32.0</td>\n",
       "      <td>Female</td>\n",
       "      <td>122.0</td>\n",
       "      <td>293.0</td>\n",
       "      <td>High</td>\n",
       "      <td>Yes</td>\n",
       "      <td>Yes</td>\n",
       "      <td>No</td>\n",
       "      <td>24.130477</td>\n",
       "      <td>Yes</td>\n",
       "      <td>...</td>\n",
       "      <td>Yes</td>\n",
       "      <td>Low</td>\n",
       "      <td>High</td>\n",
       "      <td>5.249405</td>\n",
       "      <td>High</td>\n",
       "      <td>293.0</td>\n",
       "      <td>94.0</td>\n",
       "      <td>12.509046</td>\n",
       "      <td>5.961958</td>\n",
       "      <td>No</td>\n",
       "    </tr>\n",
       "    <tr>\n",
       "      <th>4</th>\n",
       "      <td>60.0</td>\n",
       "      <td>Male</td>\n",
       "      <td>166.0</td>\n",
       "      <td>242.0</td>\n",
       "      <td>Low</td>\n",
       "      <td>Yes</td>\n",
       "      <td>Yes</td>\n",
       "      <td>Yes</td>\n",
       "      <td>20.486289</td>\n",
       "      <td>Yes</td>\n",
       "      <td>...</td>\n",
       "      <td>No</td>\n",
       "      <td>Low</td>\n",
       "      <td>High</td>\n",
       "      <td>7.030971</td>\n",
       "      <td>High</td>\n",
       "      <td>263.0</td>\n",
       "      <td>154.0</td>\n",
       "      <td>10.381259</td>\n",
       "      <td>8.153887</td>\n",
       "      <td>No</td>\n",
       "    </tr>\n",
       "    <tr>\n",
       "      <th>5</th>\n",
       "      <td>25.0</td>\n",
       "      <td>Male</td>\n",
       "      <td>152.0</td>\n",
       "      <td>257.0</td>\n",
       "      <td>Low</td>\n",
       "      <td>Yes</td>\n",
       "      <td>No</td>\n",
       "      <td>No</td>\n",
       "      <td>28.144681</td>\n",
       "      <td>No</td>\n",
       "      <td>...</td>\n",
       "      <td>No</td>\n",
       "      <td>Low</td>\n",
       "      <td>Medium</td>\n",
       "      <td>5.504876</td>\n",
       "      <td>Low</td>\n",
       "      <td>126.0</td>\n",
       "      <td>91.0</td>\n",
       "      <td>4.297575</td>\n",
       "      <td>10.815983</td>\n",
       "      <td>No</td>\n",
       "    </tr>\n",
       "    <tr>\n",
       "      <th>6</th>\n",
       "      <td>78.0</td>\n",
       "      <td>Female</td>\n",
       "      <td>121.0</td>\n",
       "      <td>175.0</td>\n",
       "      <td>High</td>\n",
       "      <td>Yes</td>\n",
       "      <td>Yes</td>\n",
       "      <td>Yes</td>\n",
       "      <td>18.042332</td>\n",
       "      <td>No</td>\n",
       "      <td>...</td>\n",
       "      <td>No</td>\n",
       "      <td>Medium</td>\n",
       "      <td>Medium</td>\n",
       "      <td>9.240911</td>\n",
       "      <td>Medium</td>\n",
       "      <td>107.0</td>\n",
       "      <td>85.0</td>\n",
       "      <td>11.582983</td>\n",
       "      <td>19.659461</td>\n",
       "      <td>No</td>\n",
       "    </tr>\n",
       "    <tr>\n",
       "      <th>7</th>\n",
       "      <td>38.0</td>\n",
       "      <td>Female</td>\n",
       "      <td>161.0</td>\n",
       "      <td>187.0</td>\n",
       "      <td>Low</td>\n",
       "      <td>Yes</td>\n",
       "      <td>Yes</td>\n",
       "      <td>Yes</td>\n",
       "      <td>34.736683</td>\n",
       "      <td>No</td>\n",
       "      <td>...</td>\n",
       "      <td>No</td>\n",
       "      <td>Low</td>\n",
       "      <td>Medium</td>\n",
       "      <td>7.841008</td>\n",
       "      <td>High</td>\n",
       "      <td>228.0</td>\n",
       "      <td>111.0</td>\n",
       "      <td>4.929381</td>\n",
       "      <td>17.146599</td>\n",
       "      <td>No</td>\n",
       "    </tr>\n",
       "    <tr>\n",
       "      <th>8</th>\n",
       "      <td>56.0</td>\n",
       "      <td>Female</td>\n",
       "      <td>135.0</td>\n",
       "      <td>291.0</td>\n",
       "      <td>Low</td>\n",
       "      <td>No</td>\n",
       "      <td>Yes</td>\n",
       "      <td>Yes</td>\n",
       "      <td>34.493112</td>\n",
       "      <td>Yes</td>\n",
       "      <td>...</td>\n",
       "      <td>Yes</td>\n",
       "      <td>High</td>\n",
       "      <td>Low</td>\n",
       "      <td>6.941403</td>\n",
       "      <td>High</td>\n",
       "      <td>317.0</td>\n",
       "      <td>103.0</td>\n",
       "      <td>5.119015</td>\n",
       "      <td>6.051129</td>\n",
       "      <td>No</td>\n",
       "    </tr>\n",
       "    <tr>\n",
       "      <th>9</th>\n",
       "      <td>75.0</td>\n",
       "      <td>Male</td>\n",
       "      <td>144.0</td>\n",
       "      <td>252.0</td>\n",
       "      <td>Low</td>\n",
       "      <td>Yes</td>\n",
       "      <td>Yes</td>\n",
       "      <td>No</td>\n",
       "      <td>30.142149</td>\n",
       "      <td>No</td>\n",
       "      <td>...</td>\n",
       "      <td>Yes</td>\n",
       "      <td>Low</td>\n",
       "      <td>Medium</td>\n",
       "      <td>4.002662</td>\n",
       "      <td>High</td>\n",
       "      <td>199.0</td>\n",
       "      <td>96.0</td>\n",
       "      <td>10.005698</td>\n",
       "      <td>7.604357</td>\n",
       "      <td>No</td>\n",
       "    </tr>\n",
       "  </tbody>\n",
       "</table>\n",
       "<p>10 rows × 21 columns</p>\n",
       "</div>"
      ],
      "text/plain": [
       "    Age  Gender  Blood Pressure  Cholesterol Level Exercise Habits Smoking  \\\n",
       "0  56.0    Male           153.0              155.0            High     Yes   \n",
       "1  69.0  Female           146.0              286.0            High      No   \n",
       "2  46.0    Male           126.0              216.0             Low      No   \n",
       "3  32.0  Female           122.0              293.0            High     Yes   \n",
       "4  60.0    Male           166.0              242.0             Low     Yes   \n",
       "5  25.0    Male           152.0              257.0             Low     Yes   \n",
       "6  78.0  Female           121.0              175.0            High     Yes   \n",
       "7  38.0  Female           161.0              187.0             Low     Yes   \n",
       "8  56.0  Female           135.0              291.0             Low      No   \n",
       "9  75.0    Male           144.0              252.0             Low     Yes   \n",
       "\n",
       "  Family Heart Disease Diabetes        BMI High Blood Pressure  ...  \\\n",
       "0                  Yes       No  24.991591                 Yes  ...   \n",
       "1                  Yes      Yes  25.221799                  No  ...   \n",
       "2                   No       No  29.855447                  No  ...   \n",
       "3                  Yes       No  24.130477                 Yes  ...   \n",
       "4                  Yes      Yes  20.486289                 Yes  ...   \n",
       "5                   No       No  28.144681                  No  ...   \n",
       "6                  Yes      Yes  18.042332                  No  ...   \n",
       "7                  Yes      Yes  34.736683                  No  ...   \n",
       "8                  Yes      Yes  34.493112                 Yes  ...   \n",
       "9                  Yes       No  30.142149                  No  ...   \n",
       "\n",
       "  High LDL Cholesterol Alcohol Consumption Stress Level Sleep Hours  \\\n",
       "0                   No                High       Medium    7.633228   \n",
       "1                   No              Medium         High    8.744034   \n",
       "2                  Yes                 Low          Low    4.440440   \n",
       "3                  Yes                 Low         High    5.249405   \n",
       "4                   No                 Low         High    7.030971   \n",
       "5                   No                 Low       Medium    5.504876   \n",
       "6                   No              Medium       Medium    9.240911   \n",
       "7                   No                 Low       Medium    7.841008   \n",
       "8                  Yes                High          Low    6.941403   \n",
       "9                  Yes                 Low       Medium    4.002662   \n",
       "\n",
       "   Sugar Consumption Triglyceride Level  Fasting Blood Sugar  CRP Level  \\\n",
       "0             Medium              342.0                  NaN  12.969246   \n",
       "1             Medium              133.0                157.0   9.355389   \n",
       "2                Low              393.0                 92.0  12.709873   \n",
       "3               High              293.0                 94.0  12.509046   \n",
       "4               High              263.0                154.0  10.381259   \n",
       "5                Low              126.0                 91.0   4.297575   \n",
       "6             Medium              107.0                 85.0  11.582983   \n",
       "7               High              228.0                111.0   4.929381   \n",
       "8               High              317.0                103.0   5.119015   \n",
       "9               High              199.0                 96.0  10.005698   \n",
       "\n",
       "   Homocysteine Level  Heart Disease Status  \n",
       "0           12.387250                    No  \n",
       "1           19.298875                    No  \n",
       "2           11.230926                    No  \n",
       "3            5.961958                    No  \n",
       "4            8.153887                    No  \n",
       "5           10.815983                    No  \n",
       "6           19.659461                    No  \n",
       "7           17.146599                    No  \n",
       "8            6.051129                    No  \n",
       "9            7.604357                    No  \n",
       "\n",
       "[10 rows x 21 columns]"
      ]
     },
     "execution_count": 15,
     "metadata": {},
     "output_type": "execute_result"
    }
   ],
   "source": [
    "df.head(10)"
   ]
  },
  {
   "cell_type": "code",
   "execution_count": 16,
   "metadata": {},
   "outputs": [
    {
     "data": {
      "text/plain": [
       "np.int64(0)"
      ]
     },
     "execution_count": 16,
     "metadata": {},
     "output_type": "execute_result"
    }
   ],
   "source": [
    "df.duplicated().sum()"
   ]
  },
  {
   "cell_type": "code",
   "execution_count": 18,
   "metadata": {},
   "outputs": [
    {
     "data": {
      "text/plain": [
       "Age                       29\n",
       "Gender                    19\n",
       "Blood Pressure            19\n",
       "Cholesterol Level         30\n",
       "Exercise Habits           25\n",
       "Smoking                   25\n",
       "Family Heart Disease      21\n",
       "Diabetes                  30\n",
       "BMI                       22\n",
       "High Blood Pressure       26\n",
       "Low HDL Cholesterol       25\n",
       "High LDL Cholesterol      26\n",
       "Alcohol Consumption     2586\n",
       "Stress Level              22\n",
       "Sleep Hours               25\n",
       "Sugar Consumption         30\n",
       "Triglyceride Level        26\n",
       "Fasting Blood Sugar       22\n",
       "CRP Level                 26\n",
       "Homocysteine Level        20\n",
       "Heart Disease Status       0\n",
       "dtype: int64"
      ]
     },
     "execution_count": 18,
     "metadata": {},
     "output_type": "execute_result"
    }
   ],
   "source": [
    "df.isnull().sum()"
   ]
  },
  {
   "cell_type": "code",
   "execution_count": 20,
   "metadata": {},
   "outputs": [
    {
     "data": {
      "text/plain": [
       "np.int64(22)"
      ]
     },
     "execution_count": 20,
     "metadata": {},
     "output_type": "execute_result"
    }
   ],
   "source": [
    "df['Fasting Blood Sugar'].isnull().sum()"
   ]
  },
  {
   "cell_type": "code",
   "execution_count": 22,
   "metadata": {},
   "outputs": [
    {
     "name": "stderr",
     "output_type": "stream",
     "text": [
      "C:\\Users\\Python\\AppData\\Local\\Temp\\ipykernel_11968\\3569057860.py:1: FutureWarning: A value is trying to be set on a copy of a DataFrame or Series through chained assignment using an inplace method.\n",
      "The behavior will change in pandas 3.0. This inplace method will never work because the intermediate object on which we are setting values always behaves as a copy.\n",
      "\n",
      "For example, when doing 'df[col].method(value, inplace=True)', try using 'df.method({col: value}, inplace=True)' or df[col] = df[col].method(value) instead, to perform the operation inplace on the original object.\n",
      "\n",
      "\n",
      "  df['Fasting Blood Sugar'].fillna(df['Fasting Blood Sugar'].mean(), inplace= True)\n"
     ]
    }
   ],
   "source": [
    "df['Fasting Blood Sugar'].fillna(df['Fasting Blood Sugar'].mean(), inplace= True)"
   ]
  },
  {
   "cell_type": "code",
   "execution_count": 23,
   "metadata": {},
   "outputs": [
    {
     "data": {
      "text/plain": [
       "np.int64(0)"
      ]
     },
     "execution_count": 23,
     "metadata": {},
     "output_type": "execute_result"
    }
   ],
   "source": [
    "df['Fasting Blood Sugar'].isnull().sum()"
   ]
  },
  {
   "cell_type": "code",
   "execution_count": 24,
   "metadata": {},
   "outputs": [
    {
     "name": "stdout",
     "output_type": "stream",
     "text": [
      "<class 'pandas.core.frame.DataFrame'>\n",
      "RangeIndex: 10000 entries, 0 to 9999\n",
      "Data columns (total 21 columns):\n",
      " #   Column                Non-Null Count  Dtype  \n",
      "---  ------                --------------  -----  \n",
      " 0   Age                   9971 non-null   float64\n",
      " 1   Gender                9981 non-null   object \n",
      " 2   Blood Pressure        9981 non-null   float64\n",
      " 3   Cholesterol Level     9970 non-null   float64\n",
      " 4   Exercise Habits       9975 non-null   object \n",
      " 5   Smoking               9975 non-null   object \n",
      " 6   Family Heart Disease  9979 non-null   object \n",
      " 7   Diabetes              9970 non-null   object \n",
      " 8   BMI                   9978 non-null   float64\n",
      " 9   High Blood Pressure   9974 non-null   object \n",
      " 10  Low HDL Cholesterol   9975 non-null   object \n",
      " 11  High LDL Cholesterol  9974 non-null   object \n",
      " 12  Alcohol Consumption   7414 non-null   object \n",
      " 13  Stress Level          9978 non-null   object \n",
      " 14  Sleep Hours           9975 non-null   float64\n",
      " 15  Sugar Consumption     9970 non-null   object \n",
      " 16  Triglyceride Level    9974 non-null   float64\n",
      " 17  Fasting Blood Sugar   10000 non-null  float64\n",
      " 18  CRP Level             9974 non-null   float64\n",
      " 19  Homocysteine Level    9980 non-null   float64\n",
      " 20  Heart Disease Status  10000 non-null  object \n",
      "dtypes: float64(9), object(12)\n",
      "memory usage: 1.6+ MB\n"
     ]
    }
   ],
   "source": [
    "df.info()"
   ]
  },
  {
   "cell_type": "code",
   "execution_count": 25,
   "metadata": {},
   "outputs": [
    {
     "data": {
      "text/plain": [
       "Diabetes\n",
       "No     5018\n",
       "Yes    4952\n",
       "Name: count, dtype: int64"
      ]
     },
     "execution_count": 25,
     "metadata": {},
     "output_type": "execute_result"
    }
   ],
   "source": [
    "df['Diabetes'].value_counts()"
   ]
  },
  {
   "cell_type": "code",
   "execution_count": 28,
   "metadata": {},
   "outputs": [
    {
     "data": {
      "text/plain": [
       "Heart Disease Status  Smoking\n",
       "No                    Yes        4094\n",
       "                      No         3887\n",
       "Yes                   Yes        1029\n",
       "                      No          965\n",
       "Name: count, dtype: int64"
      ]
     },
     "execution_count": 28,
     "metadata": {},
     "output_type": "execute_result"
    }
   ],
   "source": [
    "df.groupby('Heart Disease Status')['Smoking'].value_counts()"
   ]
  },
  {
   "cell_type": "code",
   "execution_count": 29,
   "metadata": {},
   "outputs": [],
   "source": [
    "import seaborn as sns"
   ]
  },
  {
   "cell_type": "code",
   "execution_count": 30,
   "metadata": {},
   "outputs": [
    {
     "data": {
      "text/plain": [
       "<Axes: xlabel='Age', ylabel='Count'>"
      ]
     },
     "execution_count": 30,
     "metadata": {},
     "output_type": "execute_result"
    },
    {
     "data": {
      "image/png": "[encoded data removed]",
      "text/plain": [
       "<Figure size 640x480 with 1 Axes>"
      ]
     },
     "metadata": {},
     "output_type": "display_data"
    }
   ],
   "source": [
    "sns.histplot(data=df, x='Age')"
   ]
  },
  {
   "cell_type": "code",
   "execution_count": 31,
   "metadata": {},
   "outputs": [
    {
     "data": {
      "text/plain": [
       "<Axes: xlabel='Heart Disease Status', ylabel='count'>"
      ]
     },
     "execution_count": 31,
     "metadata": {},
     "output_type": "execute_result"
    },
    {
     "data": {
      "image/png": "[encoded data removed]",
      "text/plain": [
       "<Figure size 640x480 with 1 Axes>"
      ]
     },
     "metadata": {},
     "output_type": "display_data"
    }
   ],
   "source": [
    "sns.countplot(x='Heart Disease Status', data = df)"
   ]
  },
  {
   "cell_type": "code",
   "execution_count": 32,
   "metadata": {},
   "outputs": [
    {
     "data": {
      "text/plain": [
       "<Axes: xlabel='Cholesterol Level', ylabel='Heart Disease Status'>"
      ]
     },
     "execution_count": 32,
     "metadata": {},
     "output_type": "execute_result"
    },
    {
     "data": {
      "image/png": "[encoded data removed]",
      "text/plain": [
       "<Figure size 640x480 with 1 Axes>"
      ]
     },
     "metadata": {},
     "output_type": "display_data"
    }
   ],
   "source": [
    "sns.boxplot(x='Cholesterol Level', y='Heart Disease Status', data=df)"
   ]
  },
  {
   "cell_type": "markdown",
   "metadata": {},
   "source": [
    "sns.boxplot(x='Payment', y='Total', hue='Gender', data=df, showmeans=True)"
   ]
  },
  {
   "cell_type": "code",
   "execution_count": 37,
   "metadata": {},
   "outputs": [
    {
     "data": {
      "text/plain": [
       "<Axes: xlabel='Heart Disease Status', ylabel='Exercise Habits'>"
      ]
     },
     "execution_count": 37,
     "metadata": {},
     "output_type": "execute_result"
    },
    {
     "data": {
      "image/png": "[encoded data removed]",
      "text/plain": [
       "<Figure size 640x480 with 1 Axes>"
      ]
     },
     "metadata": {},
     "output_type": "display_data"
    }
   ],
   "source": [
    "sns.barplot(x='Heart Disease Status', y='Exercise Habits', data = df)"
   ]
  },
  {
   "cell_type": "markdown",
   "metadata": {},
   "source": [
    "df.groupby('Client_Region')['Job_Duration_Days'].value_counts()"
   ]
  },
  {
   "cell_type": "code",
   "execution_count": 39,
   "metadata": {},
   "outputs": [
    {
     "data": {
      "text/plain": [
       "Heart Disease Status  Stress Level\n",
       "No                    Low             2698\n",
       "                      Medium          2661\n",
       "                      High            2622\n",
       "Yes                   Medium           726\n",
       "                      High             649\n",
       "                      Low              622\n",
       "Name: count, dtype: int64"
      ]
     },
     "execution_count": 39,
     "metadata": {},
     "output_type": "execute_result"
    }
   ],
   "source": [
    "df.groupby('Heart Disease Status')['Stress Level'].value_counts()"
   ]
  },
  {
   "cell_type": "markdown",
   "metadata": {},
   "source": [
    "cor_m = df[['Earnings_USD', 'Hourly_Rate', 'Job_Success_Rate','Client_Rating', 'Rehire_Rate', 'Marketing_Spend']].corr()"
   ]
  },
  {
   "cell_type": "code",
   "execution_count": 41,
   "metadata": {},
   "outputs": [],
   "source": [
    "cor_m = df[['Age', 'BMI', 'Blood Pressure', 'CRP Level', 'Triglyceride Level', 'Fasting Blood Sugar']].corr()"
   ]
  },
  {
   "cell_type": "code",
   "execution_count": 42,
   "metadata": {},
   "outputs": [
    {
     "data": {
      "text/plain": [
       "<Axes: >"
      ]
     },
     "execution_count": 42,
     "metadata": {},
     "output_type": "execute_result"
    },
    {
     "data": {
      "image/png": "[encoded data removed]",
      "text/plain": [
       "<Figure size 640x480 with 2 Axes>"
      ]
     },
     "metadata": {},
     "output_type": "display_data"
    }
   ],
   "source": [
    "sns.heatmap(data=cor_m, annot=True)"
   ]
  },
  {
   "cell_type": "code",
   "execution_count": 44,
   "metadata": {},
   "outputs": [
    {
     "data": {
      "text/plain": [
       "<Axes: xlabel='Heart Disease Status', ylabel='Stress Level'>"
      ]
     },
     "execution_count": 44,
     "metadata": {},
     "output_type": "execute_result"
    },
    {
     "data": {
      "image/png": "[encoded data removed]",
      "text/plain": [
       "<Figure size 640x480 with 1 Axes>"
      ]
     },
     "metadata": {},
     "output_type": "display_data"
    }
   ],
   "source": [
    "sns.barplot(x='Heart Disease Status', y='Stress Level', data = df)"
   ]
  },
  {
   "cell_type": "code",
   "execution_count": null,
   "metadata": {},
   "outputs": [],
   "source": []
  },
  {
   "cell_type": "code",
   "execution_count": null,
   "metadata": {},
   "outputs": [],
   "source": []
  },
  {
   "cell_type": "code",
   "execution_count": null,
   "metadata": {},
   "outputs": [],
   "source": []
  }
 ],
 "metadata": {
  "kernelspec": {
   "display_name": "Python 3",
   "language": "python",
   "name": "python3"
  },
  "language_info": {
   "codemirror_mode": {
    "name": "ipython",
    "version": 3
   },
   "file_extension": ".py",
   "mimetype": "text/x-python",
   "name": "python",
   "nbconvert_exporter": "python",
   "pygments_lexer": "ipython3",
   "version": "3.13.2"
  }
 },
 "nbformat": 4,
 "nbformat_minor": 2
}
